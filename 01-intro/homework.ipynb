{
 "cells": [
  {
   "cell_type": "code",
   "execution_count": 1,
   "id": "8a747c4e-45f4-4c75-becb-1e2c02e6e583",
   "metadata": {},
   "outputs": [],
   "source": [
    "import openai"
   ]
  },
  {
   "cell_type": "code",
   "execution_count": 2,
   "id": "0fa373f5-76dc-4104-abcd-e674498ee766",
   "metadata": {},
   "outputs": [],
   "source": [
    "from openai import OpenAI"
   ]
  },
  {
   "cell_type": "code",
   "execution_count": 3,
   "id": "50ce5c0a-e0f1-4016-8b79-24efca027f25",
   "metadata": {},
   "outputs": [],
   "source": [
    "client = OpenAI(api_key='')"
   ]
  },
  {
   "cell_type": "code",
   "execution_count": 4,
   "id": "d81559cf-16fe-485d-a11f-281b73143359",
   "metadata": {},
   "outputs": [],
   "source": [
    "import os"
   ]
  },
  {
   "cell_type": "code",
   "execution_count": 8,
   "id": "e705901b-f86a-4d33-92fe-3877094310b1",
   "metadata": {},
   "outputs": [],
   "source": [
    "response=client.chat.completions.create(\n",
    "    model='gpt-4o',\n",
    "    messages=[{\"role\":\"user\", \"content\":\"is it to late to join the course?\"}]\n",
    ")"
   ]
  },
  {
   "cell_type": "code",
   "execution_count": 12,
   "id": "83c13726-8841-48f8-926d-7710d8b7bc3b",
   "metadata": {},
   "outputs": [
    {
     "data": {
      "text/plain": [
       "\"It's difficult to provide a yes or no answer without knowing more details about the specific course you're referring to. Here are some factors to consider:\\n\\n1. **Course Enrollment Deadline**: Many courses have specific enrollment periods. Check the course website or contact the admissions office to verify if the deadline has passed.\\n\\n2. **Course Start Date**: Some courses may allow late enrollment within a certain period after the course starts, though you may need to catch up on missed material.\\n\\n3. **Availability of Spots**: If the course has a cap on the number of students, it might be full even if the enrollment period is still open.\\n\\n4. **Prerequisites and Preparation**: If the course has prerequisites or requires advance preparation, make sure you can meet these requirements in time.\\n\\n5. **Instructor or Administrator Flexibility**: Sometimes, instructors or program administrators can make exceptions, especially if there's a compelling reason for your late enrollment.\\n\\nIf you provide more details about the course, I can give more targeted advice. In general, the best course of action is to reach out directly to the course provider for the most accurate and up-to-date information.\""
      ]
     },
     "execution_count": 12,
     "metadata": {},
     "output_type": "execute_result"
    }
   ],
   "source": [
    "response.choices[0].message.content"
   ]
  },
  {
   "cell_type": "code",
   "execution_count": null,
   "id": "4dc3d1f0-bbec-4343-86cb-311bc76a1b1f",
   "metadata": {},
   "outputs": [],
   "source": []
  }
 ],
 "metadata": {
  "kernelspec": {
   "display_name": "Python 3 (ipykernel)",
   "language": "python",
   "name": "python3"
  },
  "language_info": {
   "codemirror_mode": {
    "name": "ipython",
    "version": 3
   },
   "file_extension": ".py",
   "mimetype": "text/x-python",
   "name": "python",
   "nbconvert_exporter": "python",
   "pygments_lexer": "ipython3",
   "version": "3.10.13"
  }
 },
 "nbformat": 4,
 "nbformat_minor": 5
}
